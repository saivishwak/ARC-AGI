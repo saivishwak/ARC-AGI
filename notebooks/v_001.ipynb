{
 "cells": [
  {
   "cell_type": "code",
   "execution_count": 18,
   "id": "ba92807e-2548-4042-acba-31aa3e4132f3",
   "metadata": {},
   "outputs": [],
   "source": [
    "# https://github.com/fchollet/ARC-AGI?tab=readme-ov-file\n",
    "# https://arcprize.org/\n",
    "# https://www.kaggle.com/competitions/arc-prize-2024/code?competitionId=67357&sortBy=voteCount&excludeNonAccessedDatasources=true\n",
    "# https://arxiv.org/pdf/1911.01547\n",
    "import pandas as pd\n",
    "import numpy as np\n",
    "\n",
    "import matplotlib.pyplot as plt\n",
    "from   matplotlib import colors\n",
    "import seaborn as sns\n",
    "\n",
    "import json\n",
    "import os\n",
    "from pathlib import Path\n",
    "\n",
    "from subprocess import Popen, PIPE, STDOUT\n",
    "from glob import glob\n",
    "\n",
    "import torch"
   ]
  },
  {
   "cell_type": "code",
   "execution_count": 19,
   "id": "9d92193a-3e5e-4d56-ab3d-078940d370ef",
   "metadata": {},
   "outputs": [],
   "source": [
    "if torch.cuda.is_available():\n",
    "    device = torch.device(\"cuda:0\")\n",
    "else:\n",
    "    device = torch.device(\"cpu\")"
   ]
  },
  {
   "cell_type": "markdown",
   "id": "0aaf85de-32fb-451e-8424-24738d4f1c49",
   "metadata": {},
   "source": [
    "# Data Import"
   ]
  },
  {
   "cell_type": "code",
   "execution_count": 20,
   "id": "36ebf7da-bfd4-474d-a669-5509ba4181fd",
   "metadata": {},
   "outputs": [],
   "source": [
    "base_path='../data/'\n",
    "# Loading JSON data\n",
    "def load_json(file_path):\n",
    "    data = {};\n",
    "    for file in glob(file_path+ \"*.json\"):\n",
    "        with open(file) as f:\n",
    "            file_name = os.path.basename(file).split(\".json\")[0]\n",
    "            data[file_name] = json.load(f)\n",
    "    return data"
   ]
  },
  {
   "cell_type": "code",
   "execution_count": 21,
   "id": "ba025d02-f66f-44c5-a0df-f43a1204947c",
   "metadata": {},
   "outputs": [],
   "source": [
    "# Reading files\n",
    "training_challenges =  load_json(base_path +'training/')\n",
    "training_solutions =   load_json(base_path +'evaluation/')"
   ]
  },
  {
   "cell_type": "code",
   "execution_count": 22,
   "id": "caaf09c4-dd0b-40cc-bcd2-4fe916f8678b",
   "metadata": {},
   "outputs": [
    {
     "data": {
      "text/plain": [
       "'2dc579da'"
      ]
     },
     "execution_count": 22,
     "metadata": {},
     "output_type": "execute_result"
    }
   ],
   "source": [
    "list(training_challenges)[0]"
   ]
  },
  {
   "cell_type": "markdown",
   "id": "4a6e70da-49c5-4d53-95c2-21aae67beb68",
   "metadata": {},
   "source": [
    "# Visualization of Data"
   ]
  },
  {
   "cell_type": "code",
   "execution_count": 23,
   "id": "d3bc4e72-03a3-4848-a80e-062fab6c4bc7",
   "metadata": {},
   "outputs": [
    {
     "data": {
      "image/png": "[encoded data removed]",
      "text/plain": [
       "<Figure size 800x200 with 1 Axes>"
      ]
     },
     "metadata": {},
     "output_type": "display_data"
    }
   ],
   "source": [
    "# 0:black, 1:blue, 2:red, 3:greed, 4:yellow, # 5:gray, 6:magenta, 7:orange, 8:sky, 9:brown\n",
    "_cmap = colors.ListedColormap(\n",
    "    ['#000000', '#0074D9','#FF4136','#2ECC40','#FFDC00',\n",
    "     '#AAAAAA', '#F012BE', '#FF851B', '#7FDBFF', '#870C25'])\n",
    "norm = colors.Normalize(vmin=0, vmax=9)\n",
    "\n",
    "plt.figure(figsize=(4, 1), dpi=200)\n",
    "plt.imshow([list(range(10))], cmap=_cmap, norm=norm)\n",
    "plt.xticks(list(range(10)))\n",
    "plt.yticks([])\n",
    "plt.show()"
   ]
  },
  {
   "cell_type": "code",
   "execution_count": 24,
   "id": "b2da1f68-b874-4aa9-8b94-32c667e88bb2",
   "metadata": {},
   "outputs": [],
   "source": [
    "def plot_grid(axs, mat, train_or_test, input_or_output):\n",
    "    input_grid_size = mat.shape\n",
    "    axs.set_yticks([x-0.5 for x in range(1+input_grid_size[0])])\n",
    "    axs.set_xticks([x-0.5 for x in range(1+input_grid_size[1])])\n",
    "    axs.grid(True,which='both',color='lightgrey', linewidth=0.5)\n",
    "    axs.imshow(mat, cmap=_cmap, norm=norm)\n",
    "    axs.set_xticklabels([])\n",
    "    axs.set_yticklabels([])\n",
    "    axs.set_title(train_or_test + ' '+input_or_output)\n",
    "    \n",
    "def plot_task(task):\n",
    "    num_train = len(task['train'])\n",
    "    fig, axs = plt.subplots(2, num_train, figsize=(3 * num_train, 3 * 2))\n",
    "    for i in range(num_train):\n",
    "        inn = np.array(task[\"train\"][i][\"input\"])\n",
    "        out = np.array(task[\"train\"][i][\"output\"])\n",
    "        plot_grid(axs[0, i], inn, \"Train\", \"Input\")\n",
    "        plot_grid(axs[1, i], out, \"Train\", \"Output\")\n",
    "    plt.tight_layout()\n",
    "    plt.show()"
   ]
  },
  {
   "cell_type": "code",
   "execution_count": 25,
   "id": "b39832b4-73b3-491b-8146-fcae0fd55232",
   "metadata": {},
   "outputs": [
    {
     "name": "stdout",
     "output_type": "stream",
     "text": [
      "Set #0, 2dc579da\n"
     ]
    },
    {
     "data": {
      "image/png": "[encoded data removed]",
      "text/plain": [
       "<Figure size 900x600 with 6 Axes>"
      ]
     },
     "metadata": {},
     "output_type": "display_data"
    }
   ],
   "source": [
    "for i in range(1):\n",
    "    t = list(training_challenges)[i]\n",
    "    task= training_challenges[t]\n",
    "    print(f'Set #{i}, {t}')\n",
    "    plot_task(task)"
   ]
  },
  {
   "cell_type": "code",
   "execution_count": null,
   "id": "eff5de20-b4ca-45d9-b818-2f0aed0cb97c",
   "metadata": {},
   "outputs": [],
   "source": []
  }
 ],
 "metadata": {
  "kernelspec": {
   "display_name": "Python 3 (ipykernel)",
   "language": "python",
   "name": "python3"
  },
  "language_info": {
   "codemirror_mode": {
    "name": "ipython",
    "version": 3
   },
   "file_extension": ".py",
   "mimetype": "text/x-python",
   "name": "python",
   "nbconvert_exporter": "python",
   "pygments_lexer": "ipython3",
   "version": "3.12.3"
  }
 },
 "nbformat": 4,
 "nbformat_minor": 5
}
